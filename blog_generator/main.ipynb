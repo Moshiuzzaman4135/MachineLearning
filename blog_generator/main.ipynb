{
 "cells": [
  {
   "cell_type": "markdown",
   "id": "dbe48d54",
   "metadata": {},
   "source": [
    "# Intall Dependencies"
   ]
  },
  {
   "cell_type": "code",
   "execution_count": 1,
   "id": "5460b8da",
   "metadata": {},
   "outputs": [],
   "source": [
    "#!pip install transformers"
   ]
  },
  {
   "cell_type": "code",
   "execution_count": 1,
   "id": "f2d3e03a",
   "metadata": {},
   "outputs": [],
   "source": [
    "from transformers import GPT2LMHeadModel, GPT2Tokenizer"
   ]
  },
  {
   "cell_type": "markdown",
   "id": "f4cf141e",
   "metadata": {},
   "source": [
    "# Load Model"
   ]
  },
  {
   "cell_type": "code",
   "execution_count": 2,
   "id": "cdbcd2fe",
   "metadata": {},
   "outputs": [],
   "source": [
    "tokenizer = GPT2Tokenizer.from_pretrained(\"gpt2-large\")\n",
    "model = GPT2LMHeadModel.from_pretrained(\"gpt2-large\", pad_token_id=tokenizer.eos_token_id)"
   ]
  },
  {
   "cell_type": "markdown",
   "id": "77b69cb0",
   "metadata": {},
   "source": [
    "# Tokenize Sentences"
   ]
  },
  {
   "cell_type": "code",
   "execution_count": 3,
   "id": "272ff79f",
   "metadata": {},
   "outputs": [],
   "source": [
    "sentence = 'I love coding in python.'\n",
    "input_ids = tokenizer.encode(sentence, return_tensors='pt')"
   ]
  },
  {
   "cell_type": "code",
   "execution_count": 4,
   "id": "412e064f",
   "metadata": {},
   "outputs": [
    {
     "data": {
      "text/plain": [
       "' coding'"
      ]
     },
     "execution_count": 4,
     "metadata": {},
     "output_type": "execute_result"
    }
   ],
   "source": [
    "tokenizer.decode(input_ids[0][2])"
   ]
  },
  {
   "cell_type": "markdown",
   "id": "e25c4265",
   "metadata": {},
   "source": [
    "# Generate and Decode Text"
   ]
  },
  {
   "cell_type": "code",
   "execution_count": null,
   "id": "921d7079",
   "metadata": {},
   "outputs": [],
   "source": [
    "output = model.generate(input_ids,max_length=500,num_beams=5,no_repeat_ngram_size=2,early_stopping=True)"
   ]
  },
  {
   "cell_type": "code",
   "execution_count": null,
   "id": "33324681",
   "metadata": {},
   "outputs": [],
   "source": [
    "tokenizer.decode(output[0],skip_special_tokens=True)"
   ]
  },
  {
   "cell_type": "markdown",
   "id": "c133020d",
   "metadata": {},
   "source": [
    "# Output Result"
   ]
  },
  {
   "cell_type": "code",
   "execution_count": null,
   "id": "c69c239d",
   "metadata": {},
   "outputs": [],
   "source": [
    "text = tokenizer.decode(output[0],skip_special_tokens=True)"
   ]
  },
  {
   "cell_type": "code",
   "execution_count": null,
   "id": "b6e9bba9",
   "metadata": {},
   "outputs": [],
   "source": [
    "with open('blogpost.text','w') as  f:\n",
    "    f.write(text)"
   ]
  },
  {
   "cell_type": "code",
   "execution_count": null,
   "id": "a3b5a8a3",
   "metadata": {},
   "outputs": [],
   "source": [
    "text"
   ]
  },
  {
   "cell_type": "code",
   "execution_count": null,
   "id": "c3e19167",
   "metadata": {},
   "outputs": [],
   "source": []
  }
 ],
 "metadata": {
  "kernelspec": {
   "display_name": "Cuda_tf",
   "language": "python",
   "name": "cuda_tf"
  },
  "language_info": {
   "codemirror_mode": {
    "name": "ipython",
    "version": 3
   },
   "file_extension": ".py",
   "mimetype": "text/x-python",
   "name": "python",
   "nbconvert_exporter": "python",
   "pygments_lexer": "ipython3",
   "version": "3.8.12"
  }
 },
 "nbformat": 4,
 "nbformat_minor": 5
}
