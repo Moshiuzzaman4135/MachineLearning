{
 "cells": [
  {
   "cell_type": "markdown",
   "id": "9cd634b6",
   "metadata": {},
   "source": [
    "# Install Dependencies"
   ]
  },
  {
   "cell_type": "code",
   "execution_count": 1,
   "id": "7223dcde",
   "metadata": {},
   "outputs": [],
   "source": [
    "#!pip install torch torchvision torchaudio"
   ]
  },
  {
   "cell_type": "code",
   "execution_count": 2,
   "id": "60cc6677",
   "metadata": {},
   "outputs": [],
   "source": [
    "#!pip install transformers"
   ]
  },
  {
   "cell_type": "code",
   "execution_count": 3,
   "id": "d62be7b5",
   "metadata": {},
   "outputs": [],
   "source": [
    "#!pip install ipywidgets"
   ]
  },
  {
   "cell_type": "markdown",
   "id": "c8c660f4",
   "metadata": {},
   "source": [
    "# Import Model"
   ]
  },
  {
   "cell_type": "code",
   "execution_count": 4,
   "id": "0d9350c9",
   "metadata": {},
   "outputs": [],
   "source": [
    "# Import the model class and tokenizer\n",
    "# Text to token\n",
    "from transformers import BlenderbotTokenizer , BlenderbotForConditionalGeneration"
   ]
  },
  {
   "cell_type": "code",
   "execution_count": 5,
   "id": "fb82f290",
   "metadata": {},
   "outputs": [],
   "source": [
    "# Download and setup the model and tokenizer\n",
    "tokenizer = BlenderbotTokenizer.from_pretrained(\"facebook/blenderbot-400M-distill\")\n",
    "model = BlenderbotForConditionalGeneration.from_pretrained(\"facebook/blenderbot-400M-distill\")"
   ]
  },
  {
   "cell_type": "markdown",
   "id": "984d0b59",
   "metadata": {},
   "source": [
    "# Speak to it!"
   ]
  },
  {
   "cell_type": "code",
   "execution_count": 6,
   "id": "9789be5c",
   "metadata": {},
   "outputs": [],
   "source": [
    "utterance = \"I am happy today\""
   ]
  },
  {
   "cell_type": "code",
   "execution_count": 7,
   "id": "17348388",
   "metadata": {},
   "outputs": [
    {
     "data": {
      "text/plain": [
       "{'input_ids': tensor([[ 281,  632, 1715, 1752,    2]]), 'attention_mask': tensor([[1, 1, 1, 1, 1]])}"
      ]
     },
     "execution_count": 7,
     "metadata": {},
     "output_type": "execute_result"
    }
   ],
   "source": [
    "# Tokenize the utterance\n",
    "inputs = tokenizer(utterance,return_tensors='pt')\n",
    "inputs"
   ]
  },
  {
   "cell_type": "code",
   "execution_count": 8,
   "id": "2c2ee3cd",
   "metadata": {},
   "outputs": [
    {
     "data": {
      "text/plain": [
       "tensor([[   1,  281,  476, 2730,  287, 1515,  319,   21,  714,  901,  304,  394,\n",
       "         1715, 1752,   38, 2410,  312,  265,  584,  704,   38,    2]])"
      ]
     },
     "execution_count": 8,
     "metadata": {},
     "output_type": "execute_result"
    }
   ],
   "source": [
    "#Pass through the utterance to the blender model\n",
    "res = model.generate(**inputs)\n",
    "res"
   ]
  },
  {
   "cell_type": "code",
   "execution_count": 9,
   "id": "7c3f3344",
   "metadata": {},
   "outputs": [
    {
     "data": {
      "text/plain": [
       "\"<s> I'm glad to hear that. What made you so happy today? Was it a good day?</s>\""
      ]
     },
     "execution_count": 9,
     "metadata": {},
     "output_type": "execute_result"
    }
   ],
   "source": [
    "tokenizer.decode(res[0])"
   ]
  },
  {
   "cell_type": "code",
   "execution_count": 10,
   "id": "c70e569f",
   "metadata": {},
   "outputs": [
    {
     "data": {
      "text/plain": [
       "\"<s> I'm glad to hear that. What made you so happy today? Was it a good day?</s>\""
      ]
     },
     "execution_count": 10,
     "metadata": {},
     "output_type": "execute_result"
    }
   ],
   "source": [
    "# Decode the model output\n",
    "tokenizer.decode(res[0])"
   ]
  },
  {
   "cell_type": "code",
   "execution_count": null,
   "id": "818ce2f0",
   "metadata": {},
   "outputs": [],
   "source": []
  }
 ],
 "metadata": {
  "kernelspec": {
   "display_name": "Cuda_tf",
   "language": "python",
   "name": "cuda_tf"
  },
  "language_info": {
   "codemirror_mode": {
    "name": "ipython",
    "version": 3
   },
   "file_extension": ".py",
   "mimetype": "text/x-python",
   "name": "python",
   "nbconvert_exporter": "python",
   "pygments_lexer": "ipython3",
   "version": "3.8.12"
  }
 },
 "nbformat": 4,
 "nbformat_minor": 5
}
